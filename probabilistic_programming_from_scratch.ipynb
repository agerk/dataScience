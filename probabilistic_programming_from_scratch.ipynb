{
  "nbformat": 4,
  "nbformat_minor": 0,
  "metadata": {
    "colab": {
      "name": "probabilistic_programming_from_scratch.ipynb",
      "version": "0.3.2",
      "provenance": [],
      "collapsed_sections": []
    },
    "kernelspec": {
      "name": "python3",
      "display_name": "Python 3"
    }
  },
  "cells": [
    {
      "cell_type": "markdown",
      "metadata": {
        "id": "view-in-github",
        "colab_type": "text"
      },
      "source": [
        "[View in Colaboratory](https://colab.research.google.com/github/agerk/dataScience/blob/master/probabilistic_programming_from_scratch.ipynb)"
      ]
    },
    {
      "metadata": {
        "id": "QjSYuibPMjlC",
        "colab_type": "code",
        "colab": {}
      },
      "cell_type": "code",
      "source": [
        "import random\n",
        "import itertools\n",
        "from matplotlib import pylab as plt"
      ],
      "execution_count": 0,
      "outputs": []
    },
    {
      "metadata": {
        "id": "yFln91TbPDmw",
        "colab_type": "text"
      },
      "cell_type": "markdown",
      "source": [
        "<h2>An A/B testing? </h2>\n",
        "\n",
        "Choosing two website layout: A and B"
      ]
    },
    {
      "metadata": {
        "id": "kmFN7AE5MniX",
        "colab_type": "code",
        "colab": {}
      },
      "cell_type": "code",
      "source": [
        "# A/B testing for a website\n",
        "# testing two website layout: A and B\n",
        "# case 1: 4% of visitors to layout A convert-- buy, sell something, sign up\n",
        "# case 2: 5% of layout B convert\n",
        "# Problem: which layout should company used?\n",
        "\n",
        "# clearly layout B is better, but how what about if the test was ver small?\n",
        "\n",
        "# looking closer on the stat\n",
        "n_visitors_a = 100    # num of visitors shown layout A\n",
        "n_convert_a = 4    # num of visitors converted to A\n",
        "\n",
        "n_visitors_b = 40    # num of visitors shown layout B\n",
        "n_convert_b = 2    # numo f visitors converted to B\n",
        "\n",
        "\n"
      ],
      "execution_count": 0,
      "outputs": []
    },
    {
      "metadata": {
        "id": "XQM1-6JZPTEw",
        "colab_type": "text"
      },
      "cell_type": "markdown",
      "source": [
        " - is B still better ? \n",
        " - what if its going to cost a lot to change layout if we get the decsion wrong? \n",
        " - how much more data would we need to feel comfortable in our decsion? \n",
        "\n",
        "**to answer the above questions we need to quantify exactly how confident we are about layout B is better, given the dataset**"
      ]
    },
    {
      "metadata": {
        "id": "kbn9l6Q1PheO",
        "colab_type": "text"
      },
      "cell_type": "markdown",
      "source": [
        "<h2>Bayesian inference </h2>\n",
        "\n",
        "a simple algorithm with Bayesian inference for updating our beliefs. This can be done using simple inference algorith called **Approximate Bayesian Computation (ABC)**\n",
        "\n",
        "- simulate function on a single sample fromprior and compare it against real data\n",
        "- if it agrees, saple from  the prior can be used as a sample from posterior. if not try again \n",
        "- generate enough simulations using a lot of samples from prior and we will have good idea of which values were most likely to produce the obsevations we saw"
      ]
    },
    {
      "metadata": {
        "id": "-OHNKzLGPZmk",
        "colab_type": "code",
        "colab": {}
      },
      "cell_type": "code",
      "source": [
        "# function to turn prior distributio to posterior distribution\n",
        "# prior distribution --> conversion of fraction of layout A and B\n",
        "# sample from posterior distribution --> guesses of the same parameters made after the experiment\n",
        "def posterior_sampler(data, prior_sampler, simulate):\n",
        "  \"\"\"\n",
        "  Args: data, prior dist\n",
        "  Returns: sample from posterior dist by Approximate Bayesian Computation(ABC)\n",
        "  \"\"\"\n",
        "  for p in prior_sampler:\n",
        "    if simulate(p) == data:    \n",
        "      yield p   # generator which yields sample from prior"
      ],
      "execution_count": 0,
      "outputs": []
    },
    {
      "metadata": {
        "id": "q0wSLZ3fVebw",
        "colab_type": "text"
      },
      "cell_type": "markdown",
      "source": [
        "<h3> Using the probabilistc sampler for A/B testing</h3>\n",
        "\n",
        "- Step 1 simulate"
      ]
    },
    {
      "metadata": {
        "id": "Mc8IRC1fSr3h",
        "colab_type": "code",
        "colab": {}
      },
      "cell_type": "code",
      "source": [
        "def simulate_conversion(p, n_visitors):\n",
        "  \"\"\"\n",
        "  Args: conversion fraction ,p-- generate random floating point number between 0 and 1 smaller than p\n",
        "        number of visitors-- sample n_visitor times\n",
        "        \n",
        "  Returns: number of visitors who convert\n",
        "  \"\"\"\n",
        "  outcomes = (random.random() < p for i in range(n_visitors))    # iterable booleans, True if success and False otherwise\n",
        "  return sum(outcomes)    # sum of iterable of booleans is equal to number of True elements"
      ],
      "execution_count": 0,
      "outputs": []
    },
    {
      "metadata": {
        "id": "o9gY2rX-YFFZ",
        "colab_type": "code",
        "colab": {
          "base_uri": "https://localhost:8080/",
          "height": 34
        },
        "outputId": "72efe1a0-7100-49dc-d0cb-be316e120b36"
      },
      "cell_type": "code",
      "source": [
        "# runf simulate_conversion() for a few examples\n",
        "simulate_conversion(0.1, 100), simulate_conversion(0.1, 100), simulate_conversion(0.1, 100)"
      ],
      "execution_count": 96,
      "outputs": [
        {
          "output_type": "execute_result",
          "data": {
            "text/plain": [
              "(6, 10, 8)"
            ]
          },
          "metadata": {
            "tags": []
          },
          "execution_count": 96
        }
      ]
    },
    {
      "metadata": {
        "id": "ZYWGP_svbzUV",
        "colab_type": "text"
      },
      "cell_type": "markdown",
      "source": [
        "Step 2: prior sample: a generator that yields a large number of guesses for the conversion of fraction layout. "
      ]
    },
    {
      "metadata": {
        "id": "U_rnQtujYTZl",
        "colab_type": "code",
        "colab": {}
      },
      "cell_type": "code",
      "source": [
        "def uniform_prior_sampler():\n",
        "  \"\"\"\n",
        "  Args: None\n",
        "  Retuens: yields random numbers in interval (0,1)\n",
        "  \"\"\"\n",
        "  while True:\n",
        "    yield random.random()\n",
        "    \n",
        "# Let's see how uniform_prior_sampler() works\n",
        "\n",
        "def take(n, iterable):\n",
        "  \"\"\"  \n",
        "  Args: number of desired suze and iterable\n",
        "  Returns: first n items of the iterable as a list\n",
        "  \"\"\"\n",
        "  return list(itertools.islice(iterable, n))"
      ],
      "execution_count": 0,
      "outputs": []
    },
    {
      "metadata": {
        "id": "ODZEiirbdXtM",
        "colab_type": "code",
        "colab": {
          "base_uri": "https://localhost:8080/",
          "height": 34
        },
        "outputId": "ed6ecb33-1503-4194-af4e-cbea425b74b3"
      },
      "cell_type": "code",
      "source": [
        "# draw three samples \n",
        "take(3, uniform_prior_sampler())"
      ],
      "execution_count": 98,
      "outputs": [
        {
          "output_type": "execute_result",
          "data": {
            "text/plain": [
              "[0.025187827798534013, 0.549501605659838, 0.602810049975776]"
            ]
          },
          "metadata": {
            "tags": []
          },
          "execution_count": 98
        }
      ]
    },
    {
      "metadata": {
        "id": "3Sf8lvR-d8U8",
        "colab_type": "text"
      },
      "cell_type": "markdown",
      "source": [
        "<h3>Posterior sampler</h3>"
      ]
    },
    {
      "metadata": {
        "id": "Mn1QEyXldlp0",
        "colab_type": "code",
        "colab": {}
      },
      "cell_type": "code",
      "source": [
        "posterior_a_sampler = posterior_sampler(\n",
        "    data = n_convert_a,\n",
        "    prior_sampler = uniform_prior_sampler(),\n",
        "    simulate = lambda p: simulate_conversion(p, n_visitors_a)\n",
        "  )"
      ],
      "execution_count": 0,
      "outputs": []
    },
    {
      "metadata": {
        "id": "hMkZCRWoehb6",
        "colab_type": "code",
        "colab": {
          "base_uri": "https://localhost:8080/",
          "height": 34
        },
        "outputId": "7c1015f9-65cc-4d44-ca7d-92e36bc8f6e4"
      },
      "cell_type": "code",
      "source": [
        "# sample guesses from posterir\n",
        "take(3, posterior_a_sampler)"
      ],
      "execution_count": 101,
      "outputs": [
        {
          "output_type": "execute_result",
          "data": {
            "text/plain": [
              "[0.06930470677699363, 0.05535286742878687, 0.03518544980382621]"
            ]
          },
          "metadata": {
            "tags": []
          },
          "execution_count": 101
        }
      ]
    },
    {
      "metadata": {
        "id": "cXgS-IGufBTv",
        "colab_type": "text"
      },
      "cell_type": "markdown",
      "source": [
        "<h4> Distribution of posteriro_sampler layout A</h4>"
      ]
    },
    {
      "metadata": {
        "id": "DIpzo-OZe4Rj",
        "colab_type": "code",
        "colab": {
          "base_uri": "https://localhost:8080/",
          "height": 393
        },
        "outputId": "ead0c0c3-32fb-41bc-e059-6d2aaa945efc"
      },
      "cell_type": "code",
      "source": [
        "a_samples = take(10000, posterior_a_sampler)\n",
        "ab_bins = [i/200.0 for i in range(50)]    # 50 bins between 0 and 0.25\n",
        "plt.hist(a_samples, bins=ab_bins, normed=True)   # normed=True gives a probability density function\n",
        "plt.xlim(0, max(ab_bins))\n",
        "plt.title(\"Distribution of Posterior for Conversion Fraction of layout A\")\n",
        "plt.xlabel('p for converts A')\n",
        "plt.ylabel('Number of convert from 10000 visitors')\n",
        ";"
      ],
      "execution_count": 102,
      "outputs": [
        {
          "output_type": "execute_result",
          "data": {
            "text/plain": [
              "''"
            ]
          },
          "metadata": {
            "tags": []
          },
          "execution_count": 102
        },
        {
          "output_type": "display_data",
          "data": {
            "image/png": "[encoded data removed]",
            "text/plain": [
              "<matplotlib.figure.Figure at 0x7f1e7e754908>"
            ]
          },
          "metadata": {
            "tags": []
          }
        }
      ]
    },
    {
      "metadata": {
        "id": "gKnSlmPMfpy8",
        "colab_type": "code",
        "colab": {
          "base_uri": "https://localhost:8080/",
          "height": 68
        },
        "outputId": "8d88e22b-e8df-4443-c7ad-475004b49ccb"
      },
      "cell_type": "code",
      "source": [
        "# Using Posterior distribution we can aswer the question \"How likely it is that alyout A's conversion fraction is greater than 10%\"\n",
        "print(\"The likelyhood that layout A fraction exceedes 10% is {}%\".format(100*sum(a > 0.1 for a in a_samples)/ len(a_samples)))\n",
        "print(\"or\")\n",
        "print(\"we can be {}% certain layout A fraction is less than 10%\".format(100-100*sum(a > 0.1 for a in a_samples)/ len(a_samples)))"
      ],
      "execution_count": 79,
      "outputs": [
        {
          "output_type": "stream",
          "text": [
            "The likelyhood that layout A fraction exceedes 10% is 2.27%\n",
            "or\n",
            "we can be 97.73% certain layout A fraction is less than 10%\n"
          ],
          "name": "stdout"
        }
      ]
    },
    {
      "metadata": {
        "id": "x1iYZQc7jWh9",
        "colab_type": "text"
      },
      "cell_type": "markdown",
      "source": [
        "<h4> Distribution of prior_sampler layout B</h4>"
      ]
    },
    {
      "metadata": {
        "id": "HbC8fRDch7er",
        "colab_type": "code",
        "colab": {}
      },
      "cell_type": "code",
      "source": [
        "# sample from a normal distribution with known mean and standard distribution\n",
        "def normal_prior_sampler(mu=0.06, sigma=0.02):\n",
        "  \"\"\"\n",
        "  Args: mu and sigma of normal distribution\n",
        "  Returns: yields stram of sample ffrom N(mu, sigma))\n",
        "  \"\"\"\n",
        "  while True:\n",
        "    x = random.normalvariate(mu=mu, sigma=sigma)\n",
        "    if 0 <= x <= 1:\n",
        "      yield x"
      ],
      "execution_count": 0,
      "outputs": []
    },
    {
      "metadata": {
        "id": "uQz2RXmxkDRO",
        "colab_type": "code",
        "colab": {
          "base_uri": "https://localhost:8080/",
          "height": 364
        },
        "outputId": "8cbb0d9d-6b7e-492c-a35c-3984be0c32b8"
      },
      "cell_type": "code",
      "source": [
        "# compare uniform prior of layout and normal prior layout B\n",
        "plt.hist(take(1000000, uniform_prior_sampler()),\n",
        "        bins=ab_bins, label='layout A', normed=True)\n",
        "\n",
        "plt.hist(take(1000000, normal_prior_sampler()),\n",
        "        bins=ab_bins, label='layout B', alpha=0.5, normed=True)\n",
        "plt.xlim(0, max(ab_bins))\n",
        "plt.legend()"
      ],
      "execution_count": 103,
      "outputs": [
        {
          "output_type": "execute_result",
          "data": {
            "text/plain": [
              "<matplotlib.legend.Legend at 0x7f1e7cf13710>"
            ]
          },
          "metadata": {
            "tags": []
          },
          "execution_count": 103
        },
        {
          "output_type": "display_data",
          "data": {
            "image/png": "[encoded data removed]",
            "text/plain": [
              "<matplotlib.figure.Figure at 0x7f1e7e643198>"
            ]
          },
          "metadata": {
            "tags": []
          }
        }
      ]
    },
    {
      "metadata": {
        "id": "mT86UWuJmKaV",
        "colab_type": "text"
      },
      "cell_type": "markdown",
      "source": [
        "The guesses for layout B are concetrated around 6%, which is inline with our prior knowledge. \n",
        "\n",
        "Now that we have the prior sample for B, we can make its posterior sampler and take some samples"
      ]
    },
    {
      "metadata": {
        "id": "Q4l0I_hvlgph",
        "colab_type": "code",
        "colab": {}
      },
      "cell_type": "code",
      "source": [
        "# posterior sampler for layour B\n",
        "posterior_b_sampler = posterior_sampler(data=n_convert_b,\n",
        "                                        prior_sampler=normal_prior_sampler(),\n",
        "                                       simulate=lambda p: simulate_conversion(p, n_visitors_b))\n",
        "\n",
        "b_samples = take(10000, posterior_b_sampler)"
      ],
      "execution_count": 0,
      "outputs": []
    },
    {
      "metadata": {
        "id": "ND1pL74um_9M",
        "colab_type": "code",
        "colab": {
          "base_uri": "https://localhost:8080/",
          "height": 362
        },
        "outputId": "71241738-88ae-4416-f6e9-9076bcce66ba"
      },
      "cell_type": "code",
      "source": [
        "# visualize the two sets of posterior sample directly\n",
        "plt.hist(a_samples, bins=ab_bins, label='layout A', normed=True)\n",
        "plt.hist(b_samples, bins=ab_bins, label='layout B', normed=True, alpha=0.5)\n",
        "plt.title('Posterior distributions')\n",
        "plt.xlim(0, max(ab_bins));\n",
        "plt.legend();"
      ],
      "execution_count": 109,
      "outputs": [
        {
          "output_type": "display_data",
          "data": {
            "image/png": "[encoded data removed]",
            "text/plain": [
              "<matplotlib.figure.Figure at 0x7f1e7e645898>"
            ]
          },
          "metadata": {
            "tags": []
          }
        }
      ]
    },
    {
      "metadata": {
        "id": "dv72RLGWri9V",
        "colab_type": "text"
      },
      "cell_type": "markdown",
      "source": [
        "<h4> Conclusion: The posterior distribution plot shows that layout B is shifted to the right and this is telling us layout B is probably better than layout B</h4>\n",
        "\n",
        "Answering the original question, i.e., how confident can we be that layout B is bettter?\n",
        "- we can do pairwise comparisions between between the two list of estimated and measuring the fraction of pairs for which the estimated conversion of fraction of B is bigger that that for A"
      ]
    },
    {
      "metadata": {
        "id": "e7KVatztrSuD",
        "colab_type": "code",
        "colab": {
          "base_uri": "https://localhost:8080/",
          "height": 34
        },
        "outputId": "c65457cf-862b-456f-9beb-9caf7f52534c"
      },
      "cell_type": "code",
      "source": [
        "print(\"Given the data and our prior beliefs, er are {}% sure that layout B is better than A\". \\\n",
        "      format(100*sum(b > a for a, b in zip(a_samples, b_samples))/len(a_samples)))"
      ],
      "execution_count": 115,
      "outputs": [
        {
          "output_type": "stream",
          "text": [
            "Given the data and our prior beliefs, er are 65.66% sure that layout B is better than A\n"
          ],
          "name": "stdout"
        }
      ]
    },
    {
      "metadata": {
        "id": "g8eZ86Bgtepw",
        "colab_type": "text"
      },
      "cell_type": "markdown",
      "source": [
        "To make business decision, we need to rub bigger A/B testing.\n",
        "\n",
        "This tutorial is inspired by https://www.oreilly.com/learning/probabilistic-programming-from-scratch\n"
      ]
    },
    {
      "metadata": {
        "id": "ALJQyglhsqNd",
        "colab_type": "code",
        "colab": {}
      },
      "cell_type": "code",
      "source": [
        ""
      ],
      "execution_count": 0,
      "outputs": []
    }
  ]
}